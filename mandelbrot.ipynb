{
 "cells": [
  {
   "cell_type": "code",
   "execution_count": 15,
   "metadata": {},
   "outputs": [
    {
     "name": "stdout",
     "output_type": "stream",
     "text": [
      "Populating the interactive namespace from numpy and matplotlib\n"
     ]
    }
   ],
   "source": [
    "%pylab inline\n",
    "from joblib import Parallel, delayed\n",
    "import multiprocessing as mp\n",
    "import matplotlib.pyplot as plt\n",
    "\n",
    "from concurrent.futures import ThreadPoolExecutor, ProcessPoolExecutor\n",
    "import multiprocessing as mp\n",
    "from multiprocessing import Pool, Value, Array\n",
    "import time\n",
    "from numba import njit\n",
    "\n",
    "m_set = []"
   ]
  },
  {
   "cell_type": "code",
   "execution_count": 9,
   "metadata": {},
   "outputs": [],
   "source": [
    "def mandelbrot_process(c, boundary, max_iterations=256):\n",
    "    z = 0+0j\n",
    "    i = 0\n",
    "    while absolute(z) < absolute(boundary):\n",
    "#         print('i:',i,'z:',z)\n",
    "        if i == max_iterations:\n",
    "            return True\n",
    "        z = z*z + c\n",
    "        i += 1\n",
    "    return False\n",
    "    "
   ]
  },
  {
   "cell_type": "code",
   "execution_count": 19,
   "metadata": {},
   "outputs": [],
   "source": [
    "# @njit()\n",
    "def mandelbrot(start, end, step):\n",
    "#     def m_compute2(i, j):\n",
    "#         print(i)\n",
    "#         if mandelbrot_process(complex(i,j), 2):\n",
    "#                 m_set.append((i,j))\n",
    "#     m_set = []\n",
    "#     m_compute = lambda i,j: m_set.append((i,j) if mandelbrot_process(complex(i,j), 2) else None)\n",
    "#     Parallel(n_jobs=-1)(delayed(m_set.append((i,j) if mandelbrot_process(complex(i,j), 2) else None))(i, j)\n",
    "#                         for j in \n",
    "#                         [arange(-1.00,1.00,0.01)]\n",
    "#                         for i in [arange(-1.00,1.00,0.01)])\n",
    "    for i in arange(start, end, step):\n",
    "        for j in arange(start, end, step):\n",
    "            if mandelbrot_process(complex(i,j), 2):\n",
    "                m_set.append((i,j))\n",
    "    return m_set\n",
    "\n",
    "def run(a):\n",
    "    m_set = mandelbrot(-2.0,2.0,0.1)"
   ]
  },
  {
   "cell_type": "code",
   "execution_count": 20,
   "metadata": {},
   "outputs": [],
   "source": [
    "m_set = mandelbrot(-2.0,2.0,0.1)"
   ]
  },
  {
   "cell_type": "code",
   "execution_count": 22,
   "metadata": {},
   "outputs": [
    {
     "data": {
      "text/plain": [
       "(-1.3999999999999995, 1.7763568394002505e-15)"
      ]
     },
     "execution_count": 22,
     "metadata": {},
     "output_type": "execute_result"
    }
   ],
   "source": [
    "m_set[0]"
   ]
  },
  {
   "cell_type": "code",
   "execution_count": 23,
   "metadata": {},
   "outputs": [
    {
     "data": {
      "text/plain": [
       "<matplotlib.collections.PathCollection at 0x7f6bdc3ea278>"
      ]
     },
     "execution_count": 23,
     "metadata": {},
     "output_type": "execute_result"
    },
    {
     "data": {
      "image/png": "[encoded data removed]",
      "text/plain": [
       "<Figure size 432x288 with 1 Axes>"
      ]
     },
     "metadata": {
      "needs_background": "light"
     },
     "output_type": "display_data"
    }
   ],
   "source": [
    "plt.scatter(*zip(*m_set))"
   ]
  },
  {
   "cell_type": "code",
   "execution_count": null,
   "metadata": {},
   "outputs": [],
   "source": []
  }
 ],
 "metadata": {
  "kernelspec": {
   "display_name": "Python 3",
   "language": "python",
   "name": "python3"
  },
  "language_info": {
   "codemirror_mode": {
    "name": "ipython",
    "version": 3
   },
   "file_extension": ".py",
   "mimetype": "text/x-python",
   "name": "python",
   "nbconvert_exporter": "python",
   "pygments_lexer": "ipython3",
   "version": "3.7.2"
  }
 },
 "nbformat": 4,
 "nbformat_minor": 2
}
