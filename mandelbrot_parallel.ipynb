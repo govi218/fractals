{
 "cells": [
  {
   "cell_type": "code",
   "execution_count": 7,
   "metadata": {},
   "outputs": [
    {
     "name": "stdout",
     "output_type": "stream",
     "text": [
      "Populating the interactive namespace from numpy and matplotlib\n"
     ]
    },
    {
     "name": "stderr",
     "output_type": "stream",
     "text": [
      "/home/pouya/anaconda3/lib/python3.6/site-packages/IPython/core/magics/pylab.py:160: UserWarning: pylab import has clobbered these variables: ['step']\n",
      "`%matplotlib` prevents importing * from pylab and numpy\n",
      "  \"\\n`%matplotlib` prevents importing * from pylab and numpy\"\n"
     ]
    }
   ],
   "source": [
    "%pylab inline\n",
    "# from joblib import Parallel, delayed\n",
    "import multiprocessing as mp\n",
    "import matplotlib.pyplot as plt\n",
    "\n",
    "from concurrent.futures import ThreadPoolExecutor, ProcessPoolExecutor\n",
    "import multiprocessing as mp\n",
    "from multiprocessing import Pool, Value, Array\n",
    "import time\n",
    "from numba import njit\n",
    "\n",
    "m_set = []"
   ]
  },
  {
   "cell_type": "code",
   "execution_count": 8,
   "metadata": {},
   "outputs": [],
   "source": [
    "def mandelbrot_process(c, boundary, max_iterations=256):\n",
    "    z = 0+0j\n",
    "    i = 0\n",
    "    while absolute(z) < absolute(boundary):\n",
    "#         print('i:',i,'z:',z)\n",
    "        if i == max_iterations:\n",
    "            return True\n",
    "        z = z*z + c\n",
    "        i += 1\n",
    "    return False"
   ]
  },
  {
   "cell_type": "code",
   "execution_count": 9,
   "metadata": {},
   "outputs": [],
   "source": [
    "# def create_arange(start, end, step):\n",
    "#     my_arange = []\n",
    "#     my_arange.append([start, start+(end-start)/4, step])\n",
    "#     new_start = start+(end-start)/4\n",
    "#     my_arange.append([new_start, new_start+(end-start)/4, step])\n",
    "#     newer_start = new_start+(end-start)/4\n",
    "#     my_arange.append([newer_start, newer_start+(end-start)/4, step])\n",
    "#     newest_start = newer_start+(end-start)/4\n",
    "#     my_arange.append([newest_start, newest_start+(end-start)/4, step])\n",
    "#     new_5 = newest_start+(end-start)/4\n",
    "#     my_arange.append([new_5])\n",
    "#     return my_arange"
   ]
  },
  {
   "cell_type": "code",
   "execution_count": 10,
   "metadata": {},
   "outputs": [],
   "source": [
    "def mandelbrot(my_arange):\n",
    "    start = my_arange[0]\n",
    "    end = my_arange[1]\n",
    "    step = my_arange[2]\n",
    "    for i in arange(start, end, step):\n",
    "        for j in arange(-2.0, 2.0, 0.001):\n",
    "            if mandelbrot_process(complex(i,j), 2):\n",
    "                m_set.append((i,j))\n",
    "    return m_set"
   ]
  },
  {
   "cell_type": "code",
   "execution_count": 11,
   "metadata": {},
   "outputs": [],
   "source": [
    "# my_arange = create_arange(-2.0, 2.0, 0.005)\n",
    "step = 0.001\n",
    "my_arange = [[-2.0, -1.5, step], [-1.5, -1.0, step], [-1.0, -0.5, step], [-0.5, 0.0, step], [0.0, 0.5, step], [0.5, 1.0, step], [1.0, 1.5, step], [1.5, 2.0, step]]"
   ]
  },
  {
   "cell_type": "code",
   "execution_count": 12,
   "metadata": {},
   "outputs": [],
   "source": [
    "pool = mp.Pool()"
   ]
  },
  {
   "cell_type": "code",
   "execution_count": 13,
   "metadata": {},
   "outputs": [
    {
     "name": "stdout",
     "output_type": "stream",
     "text": [
      "CPU times: user 594 ms, sys: 11.5 s, total: 12.1 s\n",
      "Wall time: 8min 54s\n"
     ]
    }
   ],
   "source": [
    "%%time\n",
    "res = pool.map(mandelbrot, my_arange)"
   ]
  },
  {
   "cell_type": "code",
   "execution_count": 14,
   "metadata": {},
   "outputs": [
    {
     "data": {
      "text/plain": [
       "1521681"
      ]
     },
     "execution_count": 14,
     "metadata": {},
     "output_type": "execute_result"
    }
   ],
   "source": [
    "m_set = []\n",
    "for i in range(len(res)):\n",
    "    for j in range(len(res[i])):\n",
    "        m_set.append(res[i][j])\n",
    "len(m_set)"
   ]
  },
  {
   "cell_type": "code",
   "execution_count": 15,
   "metadata": {},
   "outputs": [
    {
     "data": {
      "text/plain": [
       "<matplotlib.collections.PathCollection at 0x7f37b6619e48>"
      ]
     },
     "execution_count": 15,
     "metadata": {},
     "output_type": "execute_result"
    },
    {
     "data": {
      "image/png": "[encoded data removed]",
      "text/plain": [
       "<Figure size 432x288 with 1 Axes>"
      ]
     },
     "metadata": {},
     "output_type": "display_data"
    }
   ],
   "source": [
    "plt.scatter(*zip(*m_set))"
   ]
  },
  {
   "cell_type": "code",
   "execution_count": null,
   "metadata": {},
   "outputs": [],
   "source": []
  }
 ],
 "metadata": {
  "kernelspec": {
   "display_name": "Python 3",
   "language": "python",
   "name": "python3"
  },
  "language_info": {
   "codemirror_mode": {
    "name": "ipython",
    "version": 3
   },
   "file_extension": ".py",
   "mimetype": "text/x-python",
   "name": "python",
   "nbconvert_exporter": "python",
   "pygments_lexer": "ipython3",
   "version": "3.6.5"
  }
 },
 "nbformat": 4,
 "nbformat_minor": 2
}
