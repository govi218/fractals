{
 "cells": [
  {
   "cell_type": "code",
   "execution_count": 1,
   "metadata": {},
   "outputs": [
    {
     "name": "stdout",
     "output_type": "stream",
     "text": [
      "Populating the interactive namespace from numpy and matplotlib\n"
     ]
    }
   ],
   "source": [
    "%pylab inline\n",
    "# from joblib import Parallel, delayed\n",
    "import multiprocessing as mp\n",
    "import matplotlib.pyplot as plt\n",
    "\n",
    "from concurrent.futures import ThreadPoolExecutor, ProcessPoolExecutor\n",
    "import multiprocessing as mp\n",
    "from multiprocessing import Pool, Value, Array\n",
    "import time\n",
    "from numba import njit\n",
    "\n",
    "m_set = []"
   ]
  },
  {
   "cell_type": "code",
   "execution_count": 2,
   "metadata": {},
   "outputs": [],
   "source": [
    "def mandelbrot_process(c, boundary=2, max_iterations=256):\n",
    "    z = 0+0j\n",
    "    i = 0\n",
    "    while absolute(z) < absolute(boundary):\n",
    "#         if i%20 == 0:\n",
    "#             print('i:',i,'z:',z)\n",
    "        if i == max_iterations:\n",
    "            break\n",
    "        z = z*z + c\n",
    "        i += 1\n",
    "    return i"
   ]
  },
  {
   "cell_type": "code",
   "execution_count": 3,
   "metadata": {},
   "outputs": [],
   "source": [
    "# def create_arange(start, end, step):\n",
    "#     my_arange = []\n",
    "#     my_arange.append([start, start+(end-start)/4, step])\n",
    "#     new_start = start+(end-start)/4\n",
    "#     my_arange.append([new_start, new_start+(end-start)/4, step])\n",
    "#     newer_start = new_start+(end-start)/4\n",
    "#     my_arange.append([newer_start, newer_start+(end-start)/4, step])\n",
    "#     newest_start = newer_start+(end-start)/4\n",
    "#     my_arange.append([newest_start, newest_start+(end-start)/4, step])\n",
    "#     new_5 = newest_start+(end-start)/4\n",
    "#     my_arange.append([new_5])\n",
    "#     return my_arange"
   ]
  },
  {
   "cell_type": "code",
   "execution_count": 4,
   "metadata": {},
   "outputs": [],
   "source": [
    "def mandelbrot(my_arange):\n",
    "    start = my_arange[0]\n",
    "    end = my_arange[1]\n",
    "    step = my_arange[2]\n",
    "    for i in arange(start, end, step):\n",
    "        for j in arange(-2.0, 2.0, 0.001):\n",
    "            iters = mandelbrot_process(complex(i,j))\n",
    "            if int(iters):\n",
    "                m_set.append((i,j, iters))\n",
    "    return m_set"
   ]
  },
  {
   "cell_type": "code",
   "execution_count": 5,
   "metadata": {},
   "outputs": [],
   "source": [
    "# my_arange = create_arange(-2.0, 2.0, 0.005)\n",
    "step = 0.001\n",
    "my_arange = [[-2.0, -1.75, step], [-1.75, -1.5, step], \n",
    "             [-1.5, -1.25, step], [-1.25, -1.0, step], \n",
    "             [-1.0, -0.75, step], [-0.75, -0.5, step], \n",
    "             [-0.5, -0.25, step], [-0.25, 0.0, step], \n",
    "             [0.0, 0.25, step], [0.25, 0.5, step],  \n",
    "             [0.5, 0.75, step], [0.75, 1.0, step], \n",
    "             [1.0, 1.25, step], [1.25, 1.5, step],  \n",
    "             [1.5, 1.75, step], [1.75, 2.0, step],]"
   ]
  },
  {
   "cell_type": "code",
   "execution_count": 6,
   "metadata": {},
   "outputs": [],
   "source": [
    "pool = mp.Pool()"
   ]
  },
  {
   "cell_type": "code",
   "execution_count": 7,
   "metadata": {},
   "outputs": [],
   "source": [
    "# %%time\n",
    "res = pool.map(mandelbrot, my_arange)"
   ]
  },
  {
   "cell_type": "code",
   "execution_count": 8,
   "metadata": {},
   "outputs": [
    {
     "data": {
      "text/plain": [
       "16000000"
      ]
     },
     "execution_count": 8,
     "metadata": {},
     "output_type": "execute_result"
    }
   ],
   "source": [
    "m_set = []\n",
    "for i in range(len(res)):\n",
    "    for j in range(len(res[i])):\n",
    "        m_set.append(res[i][j])\n",
    "len(m_set)"
   ]
  },
  {
   "cell_type": "code",
   "execution_count": 9,
   "metadata": {},
   "outputs": [
    {
     "data": {
      "text/plain": [
       "(-2.0, -2.0, 1)"
      ]
     },
     "execution_count": 9,
     "metadata": {},
     "output_type": "execute_result"
    }
   ],
   "source": [
    "m_set[0]"
   ]
  },
  {
   "cell_type": "code",
   "execution_count": 10,
   "metadata": {},
   "outputs": [],
   "source": [
    "labels = []\n",
    "x_vals = []\n",
    "y_vals = []\n",
    "\n",
    "for point in m_set:\n",
    "#     print(point)\n",
    "    labels.append(point[2])\n",
    "    x_vals.append(point[0])\n",
    "    y_vals.append(point[1])\n",
    "\n",
    "labels = np.array(labels)\n",
    "x_vals = np.array(x_vals)\n",
    "y_vals = np.array(y_vals)"
   ]
  },
  {
   "cell_type": "code",
   "execution_count": 12,
   "metadata": {},
   "outputs": [],
   "source": [
    "# colors = cm.rainbow(colors)\n",
    "c_array = {}\n",
    "\n",
    "for i in range(len(labels)):\n",
    "    c_array[labels[i]] = \"#\"+''.join([random.choice(['0','1','2','3','4','5','6','7','8','9','A','B','C','D','E','F']) for j in range(6)])"
   ]
  },
  {
   "cell_type": "code",
   "execution_count": 13,
   "metadata": {},
   "outputs": [
    {
     "name": "stderr",
     "output_type": "stream",
     "text": [
      "No handles with labels found to put in legend.\n"
     ]
    },
    {
     "data": {
      "image/png": "[encoded data removed]",
      "text/plain": [
       "<Figure size 432x288 with 1 Axes>"
      ]
     },
     "metadata": {
      "needs_background": "light"
     },
     "output_type": "display_data"
    }
   ],
   "source": [
    "fig, ax = plt.subplots()\n",
    "for g in np.unique(labels):\n",
    "    ix = np.where(labels == g)\n",
    "    ax.scatter(x_vals[ix], y_vals[ix], c = c_array[g], s = 1)\n",
    "ax.legend()\n",
    "plt.show()"
   ]
  },
  {
   "cell_type": "code",
   "execution_count": null,
   "metadata": {},
   "outputs": [],
   "source": [
    "# plt.scatter(*zip(*m_set))"
   ]
  },
  {
   "cell_type": "code",
   "execution_count": null,
   "metadata": {},
   "outputs": [],
   "source": []
  }
 ],
 "metadata": {
  "kernelspec": {
   "display_name": "Python 3",
   "language": "python",
   "name": "python3"
  },
  "language_info": {
   "codemirror_mode": {
    "name": "ipython",
    "version": 3
   },
   "file_extension": ".py",
   "mimetype": "text/x-python",
   "name": "python",
   "nbconvert_exporter": "python",
   "pygments_lexer": "ipython3",
   "version": "3.7.2"
  }
 },
 "nbformat": 4,
 "nbformat_minor": 2
}
